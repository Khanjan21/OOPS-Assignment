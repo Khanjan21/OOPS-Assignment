{
  "nbformat": 4,
  "nbformat_minor": 0,
  "metadata": {
    "colab": {
      "provenance": []
    },
    "kernelspec": {
      "name": "python3",
      "display_name": "Python 3"
    },
    "language_info": {
      "name": "python"
    }
  },
  "cells": [
    {
      "cell_type": "code",
      "execution_count": 1,
      "metadata": {
        "colab": {
          "base_uri": "https://localhost:8080/",
          "height": 105
        },
        "id": "2-igZg3U7gbS",
        "outputId": "c724eabb-a6bb-490c-fa4f-e10f2b49beba"
      },
      "outputs": [
        {
          "output_type": "execute_result",
          "data": {
            "text/plain": [
              "'\\n1. Key Concepts of Object-Oriented Programming (OOP)\\nThe five key concepts of Object-Oriented Programming are:\\n\\nEncapsulation: Bundling the data (attributes) and methods (functions) that operate on the data into a single unit, or class. Access to this data is controlled through access modifiers.\\n\\nAbstraction: Hiding the complex implementation details and showing only the necessary features of an object. This is achieved using abstract classes and methods.\\n\\nInheritance: A mechanism that allows one class (child class) to inherit attributes and methods from another class (parent class), promoting code reuse.\\n\\nPolymorphism: The ability of different objects to respond to the same method in different ways. This is typically achieved through method overriding.\\n\\nClass: A blueprint for creating objects (instances). It defines attributes and methods that the created objects will have.\\n'"
            ],
            "application/vnd.google.colaboratory.intrinsic+json": {
              "type": "string"
            }
          },
          "metadata": {},
          "execution_count": 1
        }
      ],
      "source": [
        "#1. What are the five key concepts of Object-Oriented Programming (OOP)?\n",
        "\n",
        "'''\n",
        "1. Key Concepts of Object-Oriented Programming (OOP)\n",
        "The five key concepts of Object-Oriented Programming are:\n",
        "\n",
        "Encapsulation: Bundling the data (attributes) and methods (functions) that operate on the data into a single unit, or class. Access to this data is controlled through access modifiers.\n",
        "\n",
        "Abstraction: Hiding the complex implementation details and showing only the necessary features of an object. This is achieved using abstract classes and methods.\n",
        "\n",
        "Inheritance: A mechanism that allows one class (child class) to inherit attributes and methods from another class (parent class), promoting code reuse.\n",
        "\n",
        "Polymorphism: The ability of different objects to respond to the same method in different ways. This is typically achieved through method overriding.\n",
        "\n",
        "Class: A blueprint for creating objects (instances). It defines attributes and methods that the created objects will have.\n",
        "'''"
      ]
    },
    {
      "cell_type": "code",
      "source": [
        "#2) 2. Write a Python class for a `Car` with attributes for `make`, `model`, and `year`. Include a method to display the car's information.\n",
        "\n",
        "\n",
        "class Car:\n",
        "    def __init__(self, make, model, year):\n",
        "        self.make = make\n",
        "        self.model = model\n",
        "        self.year = year\n",
        "\n",
        "    def display_info(self):\n",
        "        print(f\"Car: {self.year} {self.make} {self.model}\")\n",
        "\n",
        "# Example usage\n",
        "car1 = Car(\"Toyota\", \"Camry\", 2020)\n",
        "car1.display_info()\n"
      ],
      "metadata": {
        "colab": {
          "base_uri": "https://localhost:8080/"
        },
        "id": "oH_E_fWV8Auo",
        "outputId": "a0ead99c-e3fb-435c-d228-ffe93a4a1f0b"
      },
      "execution_count": 2,
      "outputs": [
        {
          "output_type": "stream",
          "name": "stdout",
          "text": [
            "Car: 2020 Toyota Camry\n"
          ]
        }
      ]
    },
    {
      "cell_type": "code",
      "source": [
        " #3) Explain the difference between instance methods and class methods. Provide an example of each.\n",
        "'''\n",
        "Instance Methods: These methods operate on an instance of the class. They can access and modify the object's attributes.\n",
        "\n",
        "Class Methods: These methods operate on the class itself rather than an instance of the class. They are marked with the @classmethod decorator and take cls as the first parameter instead of self.\n",
        "'''\n",
        "\n",
        "\n",
        "class Example:\n",
        "    class_variable = 0\n",
        "\n",
        "    def __init__(self, value):\n",
        "        self.instance_variable = value\n",
        "\n",
        "    def instance_method(self):\n",
        "        return f\"Instance method called with {self.instance_variable}\"\n",
        "\n",
        "    @classmethod\n",
        "    def class_method(cls):\n",
        "        return f\"Class method called. Class variable: {cls.class_variable}\"\n",
        "\n",
        "# Example\n",
        "obj = Example(10)\n",
        "print(obj.instance_method())  # Calls instance method\n",
        "print(Example.class_method())  # Calls class method\n"
      ],
      "metadata": {
        "colab": {
          "base_uri": "https://localhost:8080/"
        },
        "id": "_PbFo_os8Yg2",
        "outputId": "27b0bc92-78b2-4adf-e878-029bd672e35c"
      },
      "execution_count": 3,
      "outputs": [
        {
          "output_type": "stream",
          "name": "stdout",
          "text": [
            "Instance method called with 10\n",
            "Class method called. Class variable: 0\n"
          ]
        }
      ]
    },
    {
      "cell_type": "code",
      "source": [
        "#4) How does Python implement method overloading? Give an example.\n",
        "\n",
        "'''\n",
        "Python does not support traditional method overloading (i.e., multiple methods with the same name but different parameters). Instead, method overloading is typically handled by default arguments or variable arguments (*args).\n",
        "'''\n",
        "\n",
        "class Example:\n",
        "    def greet(self, name=None):\n",
        "        if name:\n",
        "            print(f\"Hello, {name}!\")\n",
        "        else:\n",
        "            print(\"Hello!\")\n",
        "\n",
        "\n",
        "obj = Example()\n",
        "obj.greet(\"Alice\")\n",
        "obj.greet()\n"
      ],
      "metadata": {
        "colab": {
          "base_uri": "https://localhost:8080/"
        },
        "id": "Ofw2Kt2F8mSH",
        "outputId": "04f323cc-dee6-4410-e8f0-d93c774e2a49"
      },
      "execution_count": 4,
      "outputs": [
        {
          "output_type": "stream",
          "name": "stdout",
          "text": [
            "Hello, Alice!\n",
            "Hello!\n"
          ]
        }
      ]
    },
    {
      "cell_type": "code",
      "source": [
        "#5) What are the three types of access modifiers in Python? How are they denoted?\n",
        "\n",
        "'''\n",
        "Python uses the following conventions to denote access modifiers:\n",
        "\n",
        "Public: Accessible from outside the class. No underscore is used. Example: self.attribute.\n",
        "Protected: Indicated by a single underscore (_). It's a convention to suggest that it should not be accessed directly outside the class.\n",
        "Private: Indicated by a double underscore (__). Name mangling is used to prevent access to this attribute outside the class.\n",
        "'''\n"
      ],
      "metadata": {
        "colab": {
          "base_uri": "https://localhost:8080/",
          "height": 70
        },
        "id": "A56rIsWq9Qt4",
        "outputId": "bb4cf739-17c9-48cf-af66-5638a87a64c6"
      },
      "execution_count": 5,
      "outputs": [
        {
          "output_type": "execute_result",
          "data": {
            "text/plain": [
              "\"\\nPython uses the following conventions to denote access modifiers:\\n\\nPublic: Accessible from outside the class. No underscore is used. Example: self.attribute.\\nProtected: Indicated by a single underscore (_). It's a convention to suggest that it should not be accessed directly outside the class.\\nPrivate: Indicated by a double underscore (__). Name mangling is used to prevent access to this attribute outside the class.\\n\""
            ],
            "application/vnd.google.colaboratory.intrinsic+json": {
              "type": "string"
            }
          },
          "metadata": {},
          "execution_count": 5
        }
      ]
    },
    {
      "cell_type": "code",
      "source": [
        "#6) Describe the five types of inheritance in Python. Provide a simple example of multiple inheritance.\n",
        "'''\n",
        "1. Single Inheritance: A child class inherits from one parent class.\n",
        "2. Multiple Inheritance: A child class inherits from multiple parent classes.\n",
        "3. Multilevel Inheritance: A child class inherits from a parent class, which in turn inherits from another class.\n",
        "4. Hierarchical Inheritance: Multiple child classes inherit from a single parent class.\n",
        "5. Hybrid Inheritance: A combination of two or more types of inheritance\n",
        "'''\n",
        "class Parent1:\n",
        "    def method1(self):\n",
        "        print(\"Method from Parent1\")\n",
        "\n",
        "class Parent2:\n",
        "    def method2(self):\n",
        "        print(\"Method from Parent2\")\n",
        "\n",
        "class Child(Parent1, Parent2):\n",
        "    pass\n",
        "\n",
        "\n",
        "child = Child()\n",
        "child.method1()\n",
        "child.method2()\n",
        "\n"
      ],
      "metadata": {
        "colab": {
          "base_uri": "https://localhost:8080/"
        },
        "id": "rEFoXfkr9dn_",
        "outputId": "3929cebe-b593-4d19-bd54-998900b26115"
      },
      "execution_count": 6,
      "outputs": [
        {
          "output_type": "stream",
          "name": "stdout",
          "text": [
            "Method from Parent1\n",
            "Method from Parent2\n"
          ]
        }
      ]
    },
    {
      "cell_type": "code",
      "source": [
        "#7)  What is the Method Resolution Order (MRO) in Python? How can you retrieve it programmatically?\n",
        "\n",
        "'''\n",
        "The Method Resolution Order (MRO) is the order in which Python looks for a method in a hierarchy of classes during multiple inheritance.\n",
        "\n",
        "You can retrieve it using the mro() method or __mro__ attribute.\n",
        "'''\n",
        "\n",
        "class A:\n",
        "    pass\n",
        "\n",
        "class B(A):\n",
        "    pass\n",
        "\n",
        "class C(A):\n",
        "    pass\n",
        "\n",
        "class D(B, C):\n",
        "    pass\n",
        "\n",
        "print(D.mro())\n"
      ],
      "metadata": {
        "colab": {
          "base_uri": "https://localhost:8080/"
        },
        "id": "N0weFC4s9wmX",
        "outputId": "73438ffb-48f7-4f07-82f3-8d6a6e87b5fd"
      },
      "execution_count": 7,
      "outputs": [
        {
          "output_type": "stream",
          "name": "stdout",
          "text": [
            "[<class '__main__.D'>, <class '__main__.B'>, <class '__main__.C'>, <class '__main__.A'>, <class 'object'>]\n"
          ]
        }
      ]
    },
    {
      "cell_type": "code",
      "source": [
        "#8) Create an abstract base class `Shape` with an abstract method `area()`. Then create two subclasses `Circle` and `Rectangle` that implement the `area()` method.\n",
        "\n",
        "from abc import ABC, abstractmethod\n",
        "\n",
        "class Shape(ABC):\n",
        "    @abstractmethod\n",
        "    def area(self):\n",
        "        pass\n",
        "\n",
        "class Circle(Shape):\n",
        "    def __init__(self, radius):\n",
        "        self.radius = radius\n",
        "\n",
        "    def area(self):\n",
        "        return 3.14 * self.radius ** 2\n",
        "\n",
        "class Rectangle(Shape):\n",
        "    def __init__(self, length, width):\n",
        "        self.length = length\n",
        "        self.width = width\n",
        "\n",
        "    def area(self):\n",
        "        return self.length * self.width\n",
        "\n",
        "circle = Circle(5)\n",
        "rectangle = Rectangle(4, 6)\n",
        "print(circle.area())  # Output: 78.5\n",
        "print(rectangle.area())  # Output: 24\n"
      ],
      "metadata": {
        "colab": {
          "base_uri": "https://localhost:8080/"
        },
        "id": "avrINY1K9_2-",
        "outputId": "2cc74c12-a0b1-4bfc-829d-f18d11113058"
      },
      "execution_count": 8,
      "outputs": [
        {
          "output_type": "stream",
          "name": "stdout",
          "text": [
            "78.5\n",
            "24\n"
          ]
        }
      ]
    },
    {
      "cell_type": "code",
      "source": [
        "#9) Demonstrate polymorphism by creating a function that can work with different shape objects to calculate and print their areas.\n",
        "\n",
        "def print_area(shape):\n",
        "    print(f\"The area is: {shape.area()}\")\n",
        "\n",
        "shapes = [Circle(5), Rectangle(4, 6)]\n",
        "for shape in shapes:\n",
        "    print_area(shape)\n"
      ],
      "metadata": {
        "colab": {
          "base_uri": "https://localhost:8080/"
        },
        "id": "q1kWu9ZO-Kh2",
        "outputId": "e5b4ad23-cd00-4201-8571-92960dadd3c3"
      },
      "execution_count": 9,
      "outputs": [
        {
          "output_type": "stream",
          "name": "stdout",
          "text": [
            "The area is: 78.5\n",
            "The area is: 24\n"
          ]
        }
      ]
    },
    {
      "cell_type": "code",
      "source": [
        "#10) Implement encapsulation in a `BankAccount` class with private attributes for `balance` and `account_number`. Include methods for deposit, withdrawal, and balance inquiry.\n",
        "\n",
        "class BankAccount:\n",
        "    def __init__(self, account_number, balance=0):\n",
        "        self.__account_number = account_number\n",
        "        self.__balance = balance\n",
        "\n",
        "    def deposit(self, amount):\n",
        "        self.__balance += amount\n",
        "\n",
        "    def withdraw(self, amount):\n",
        "        if amount > self.__balance:\n",
        "            print(\"Insufficient balance!\")\n",
        "        else:\n",
        "            self.__balance -= amount\n",
        "\n",
        "    def get_balance(self):\n",
        "        return self.__balance\n",
        "\n",
        "account = BankAccount(\"123456789\")\n",
        "account.deposit(1000)\n",
        "account.withdraw(500)\n",
        "print(account.get_balance())\n"
      ],
      "metadata": {
        "colab": {
          "base_uri": "https://localhost:8080/"
        },
        "id": "Or178Nyw-Z_t",
        "outputId": "bf4836a1-bd89-45be-9dfa-36604e54f3ad"
      },
      "execution_count": 10,
      "outputs": [
        {
          "output_type": "stream",
          "name": "stdout",
          "text": [
            "500\n"
          ]
        }
      ]
    },
    {
      "cell_type": "code",
      "source": [
        "#11)  Write a class that overrides the `__str__` and `__add__` magic methods. What will these methods allow you to do?\n",
        "\n",
        "class MyNumber:\n",
        "    def __init__(self, value):\n",
        "        self.value = value\n",
        "\n",
        "    def __str__(self):\n",
        "        return f\"MyNumber({self.value})\"\n",
        "\n",
        "    def __add__(self, other):\n",
        "        if isinstance(other, MyNumber):\n",
        "            return MyNumber(self.value + other.value)\n",
        "        return NotImplemented\n",
        "\n",
        "\n",
        "num1 = MyNumber(10)\n",
        "num2 = MyNumber(20)\n",
        "num3 = num1 + num2\n",
        "print(num3)"
      ],
      "metadata": {
        "colab": {
          "base_uri": "https://localhost:8080/"
        },
        "id": "8fIahOPL-mt5",
        "outputId": "d97e5114-a492-47fd-bb1d-189b9ac799ee"
      },
      "execution_count": 11,
      "outputs": [
        {
          "output_type": "stream",
          "name": "stdout",
          "text": [
            "MyNumber(30)\n"
          ]
        }
      ]
    },
    {
      "cell_type": "code",
      "source": [
        "#12) Create a decorator that measures and prints the execution time of a function.\n",
        "\n",
        "import time\n",
        "\n",
        "def timer(func):\n",
        "    def wrapper(*args, **kwargs):\n",
        "        start_time = time.time()\n",
        "        result = func(*args, **kwargs)\n",
        "        end_time = time.time()\n",
        "        print(f\"Execution time: {end_time - start_time} seconds\")\n",
        "        return result\n",
        "    return wrapper\n",
        "\n",
        "@timer\n",
        "def slow_function():\n",
        "    time.sleep(2)\n",
        "    print(\"Function finished\")\n",
        "\n",
        "slow_function()\n"
      ],
      "metadata": {
        "colab": {
          "base_uri": "https://localhost:8080/"
        },
        "id": "e4lwtYds-vrr",
        "outputId": "d1f19afb-e87f-4167-cd26-bc0089f9424c"
      },
      "execution_count": 12,
      "outputs": [
        {
          "output_type": "stream",
          "name": "stdout",
          "text": [
            "Function finished\n",
            "Execution time: 2.0027174949645996 seconds\n"
          ]
        }
      ]
    },
    {
      "cell_type": "code",
      "source": [
        "#13)Explain the concept of the Diamond Problem in multiple inheritance. How does Python resolve it?\n",
        "\n",
        "class A:\n",
        "    def method(self):\n",
        "        print(\"Method from A\")\n",
        "\n",
        "class B(A):\n",
        "    def method(self):\n",
        "        print(\"Method from B\")\n",
        "\n",
        "class C(A):\n",
        "    def method(self):\n",
        "        print(\"Method from C\")\n",
        "\n",
        "class D(B, C):\n",
        "    pass\n",
        "\n",
        "\n",
        "d = D()\n",
        "d.method()\n"
      ],
      "metadata": {
        "colab": {
          "base_uri": "https://localhost:8080/"
        },
        "id": "RhjnBb30-4-5",
        "outputId": "6b7e13fa-d1c1-412b-c297-9927aa7073c6"
      },
      "execution_count": 13,
      "outputs": [
        {
          "output_type": "stream",
          "name": "stdout",
          "text": [
            "Method from B\n"
          ]
        }
      ]
    },
    {
      "cell_type": "code",
      "source": [
        "#14)  Write a class method that keeps track of the number of instances created from a class.\n",
        "\n",
        "class InstanceCounter:\n",
        "    count = 0\n",
        "\n",
        "    def __init__(self):\n",
        "        InstanceCounter.count += 1\n",
        "\n",
        "    @classmethod\n",
        "    def get_instance_count(cls):\n",
        "        return cls.count\n",
        "\n",
        "\n",
        "obj1 = InstanceCounter()\n",
        "obj2 = InstanceCounter()\n",
        "print(InstanceCounter.get_instance_count())\n"
      ],
      "metadata": {
        "colab": {
          "base_uri": "https://localhost:8080/"
        },
        "id": "k0T8oB6h_BHs",
        "outputId": "58590f15-db57-4531-b016-ec8fc62b52cc"
      },
      "execution_count": 14,
      "outputs": [
        {
          "output_type": "stream",
          "name": "stdout",
          "text": [
            "2\n"
          ]
        }
      ]
    },
    {
      "cell_type": "code",
      "source": [
        "#15) Implement a static method in a class that checks if a given year is a leap year.\n",
        "\n",
        "class Year:\n",
        "    @staticmethod\n",
        "    def is_leap_year(year):\n",
        "        return year % 4 == 0 and (year % 100 != 0 or year % 400 == 0)\n",
        "\n",
        "# Example usage\n",
        "print(Year.is_leap_year(2024))  # Output: True\n"
      ],
      "metadata": {
        "colab": {
          "base_uri": "https://localhost:8080/"
        },
        "id": "JgfxmjQc_O5D",
        "outputId": "e957b347-66bd-40fb-b380-c6ac599e4477"
      },
      "execution_count": 15,
      "outputs": [
        {
          "output_type": "stream",
          "name": "stdout",
          "text": [
            "True\n"
          ]
        }
      ]
    },
    {
      "cell_type": "code",
      "source": [],
      "metadata": {
        "id": "h1LLj0nb_UTG"
      },
      "execution_count": null,
      "outputs": []
    }
  ]
}